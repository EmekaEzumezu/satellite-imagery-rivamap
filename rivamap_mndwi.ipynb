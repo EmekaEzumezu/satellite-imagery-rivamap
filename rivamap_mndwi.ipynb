{
  "nbformat": 4,
  "nbformat_minor": 0,
  "metadata": {
    "colab": {
      "name": "rivamap - mndwi.ipynb",
      "provenance": []
    },
    "kernelspec": {
      "name": "python3",
      "display_name": "Python 3"
    },
    "accelerator": "GPU"
  },
  "cells": [
    {
      "cell_type": "markdown",
      "metadata": {
        "id": "tcYf9bvExKuw",
        "colab_type": "text"
      },
      "source": [
        "## Modified normalized difference water index of Ethopian areas of interest images / bands from S3 bucket\n",
        "\n",
        "#### Codes sourced from https://github.com/isikdogan/rivamap"
      ]
    },
    {
      "cell_type": "code",
      "metadata": {
        "id": "kB3YMEegOewU",
        "colab_type": "code",
        "colab": {}
      },
      "source": [
        ""
      ],
      "execution_count": null,
      "outputs": []
    }
  ]
}